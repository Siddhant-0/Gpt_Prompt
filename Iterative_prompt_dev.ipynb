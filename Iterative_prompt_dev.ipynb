{
 "cells": [
  {
   "cell_type": "code",
   "execution_count": 1,
   "id": "17e6bd04",
   "metadata": {},
   "outputs": [],
   "source": [
    "import openai\n",
    "import os\n",
    "\n",
    "from dotenv import load_dotenv, find_dotenv\n",
    "_ = load_dotenv(find_dotenv()) # read local .env file\n",
    "\n",
    "openai.api_key  = os.getenv('OPENAI_API_KEY')"
   ]
  },
  {
   "cell_type": "code",
   "execution_count": 2,
   "id": "9781a81b",
   "metadata": {},
   "outputs": [],
   "source": [
    "client = openai.OpenAI()\n",
    "\n",
    "def get_completion(prompt, model=\"gpt-4o-mini\"):\n",
    "    messages = [{\"role\": \"user\", \"content\": prompt}]\n",
    "    response = client.chat.completions.create(\n",
    "        model=model,\n",
    "        messages=messages,\n",
    "        temperature=0\n",
    "    )\n",
    "    return response.choices[0].message.content"
   ]
  },
  {
   "cell_type": "code",
   "execution_count": 3,
   "id": "176ef00a",
   "metadata": {},
   "outputs": [
    {
     "name": "stdout",
     "output_type": "stream",
     "text": [
      "**Product Description:**\n",
      "\n",
      "Introducing our exquisite mid-century inspired office chair, a perfect blend of style and functionality. This chair is part of a stunning collection that includes filing cabinets, desks, bookcases, and meeting tables, making it an ideal addition to any home or business setting. With a variety of shell colors and base finishes to choose from, you can customize your chair to match your unique aesthetic. Select from plastic back and front upholstery (SWC-100) or opt for the luxurious full upholstery (SWC-110) available in 10 fabric and 6 leather options.\n",
      "\n",
      "Designed for comfort and versatility, this chair features a robust 5-wheel plastic coated aluminum base and a pneumatic adjustment mechanism for effortless height adjustments. Whether you prefer the sleek look of stainless steel, the modern touch of matte black, the clean finish of gloss white, or the shine of chrome, our base finish options cater to every taste. Additionally, the chair is available with or without armrests, allowing you to choose the configuration that best suits your needs.\n",
      "\n",
      "Measuring 53 cm in width, 51 cm in depth, and 80 cm in height, with a seat height of 44 cm, this chair is designed to provide optimal support and comfort. You can also select between soft or hard-floor caster options and choose from two seat foam densities—medium (1.8 lb/ft³) or high (2.8 lb/ft³)—to ensure a personalized seating experience. The chair is constructed with a durable cast aluminum shell and high-density foam, ensuring longevity and comfort.\n",
      "\n",
      "Proudly made in Italy, this chair is not only stylish but also qualified for contract use, making it a reliable choice for any professional environment. Elevate your workspace with this elegant and functional office chair that embodies the essence of mid-century design.\n",
      "\n",
      "**नेपाली अनुवाद:**\n",
      "\n",
      "हाम्रो सुन्दर मध्य-शताब्दी प्रेरित कार्यालय कुर्सीको परिचय गराउँदै, यो शैली र कार्यक्षमताको उत्तम मिश्रण हो। यो कुर्सी फाइलिङ क्याबिनेट, डेस्क, पुस्तकालय, र बैठक तालिकाहरू समावेश गर्ने एक अद्भुत संग्रहको हिस्सा हो, जसले यसलाई कुनै पनि घर वा व्यवसाय सेटिङमा थप्नको लागि आदर्श बनाउँछ। विभिन्न शेल रंग र आधारको फिनिशहरूमा चयन गरेर, तपाईं आफ्नो कुर्सीलाई अनुकूलित गर्न सक्नुहुन्छ। प्लास्टिक पछाडि र अगाडिको कपडा (SWC-100) वा १० कपडा र ६ छालाका विकल्पहरूमा उपलब्ध पूर्ण कपडाको लागि (SWC-110) चयन गर्नुहोस्।\n",
      "\n",
      "सुविधा र बहुपरकारीका लागि डिजाइन गरिएको, यो कुर्सीले ५-चक्के प्लास्टिकले लेपित एल्युमिनियम आधार र सजिलै उचाइ समायोजनको लागि प्न्युम्याटिक समायोजन यन्त्रको विशेषता राख्छ। तपाईंको स्वाद अनुसार स्टेनलेस स्टीलको चिल्लो रूप, म्याट ब्ल्याकको आधुनिक स्पर्श, ग्लसाइट सेतोको सफा फिनिश, वा क्रोमको चमकमा चयन गर्न सक्नुहुन्छ। थप रूपमा, कुर्सी आर्मरेस्टसहित वा बिना उपलब्ध छ, जसले तपाईंलाई तपाईंको आवश्यकताअनुसार कन्फिगरेसन चयन गर्न अनुमति दिन्छ।\n",
      "\n",
      "यसको चौडाइ ५३ सेमी, गहिराइ ५१ सेमी, र उचाइ ८० सेमी, र सीटको उचाइ ४४ सेमीको मापनले यो कुर्सीलाई अनुकूल समर्थन र आराम प्रदान गर्नको लागि डिजाइन गरिएको छ। तपाईंले नरम वा कडा-फ्लोर क्यास्टर विकल्पहरूमा चयन गर्न सक्नुहुन्छ र व्यक्तिगत सिट अनुभव सुनिश्चित गर्नका लागि दुई सिट फोम घनत्व—मध्यम (१.८ lb/ft³) वा उच्च (२.८ lb/ft³)—चुनन सक्नुहुन्छ। कुर्सीको निर्माण दिगो कास्ट एल्युमिनियम शेल र उच्च घनत्वको फोमले गरिएको छ, जसले दीर्घकालिकता र आराम सुनिश्चित गर्दछ।\n",
      "\n",
      "इटालीमा गर्वका साथ निर्मित, यो कुर्सी केवल स्टाइलिश मात्र होइन, तर ठेक्का प्रयोगको लागि योग्य पनि छ, जसले यसलाई कुनै पनि व्यावसायिक वातावरणको लागि विश्वसनीय विकल्प बनाउँछ। मध्य-शताब्दीको डिजाइनको सारलाई समेट्ने यो सुन्दर र कार्यात्मक कार्यालय कुर्सीसँग आफ्नो कार्यक्षेत्रलाई उचाइमा पुर्याउनुहोस्।\n"
     ]
    }
   ],
   "source": [
    "fact_sheet_chair = \"\"\"\n",
    "OVERVIEW\n",
    "- Part of a beautiful family of mid-century inspired office furniture, \n",
    "including filing cabinets, desks, bookcases, meeting tables, and more.\n",
    "- Several options of shell color and base finishes.\n",
    "- Available with plastic back and front upholstery (SWC-100) \n",
    "or full upholstery (SWC-110) in 10 fabric and 6 leather options.\n",
    "- Base finish options are: stainless steel, matte black, \n",
    "gloss white, or chrome.\n",
    "- Chair is available with or without armrests.\n",
    "- Suitable for home or business settings.\n",
    "- Qualified for contract use.\n",
    "\n",
    "CONSTRUCTION\n",
    "- 5-wheel plastic coated aluminum base.\n",
    "- Pneumatic chair adjust for easy raise/lower action.\n",
    "\n",
    "DIMENSIONS\n",
    "- WIDTH 53 CM | 20.87”\n",
    "- DEPTH 51 CM | 20.08”\n",
    "- HEIGHT 80 CM | 31.50”\n",
    "- SEAT HEIGHT 44 CM | 17.32”\n",
    "- SEAT DEPTH 41 CM | 16.14”\n",
    "\n",
    "OPTIONS\n",
    "- Soft or hard-floor caster options.\n",
    "- Two choices of seat foam densities: \n",
    " medium (1.8 lb/ft3) or high (2.8 lb/ft3)\n",
    "- Armless or 8 position PU armrests \n",
    "\n",
    "MATERIALS\n",
    "SHELL BASE GLIDER\n",
    "- Cast Aluminum with modified nylon PA6/PA66 coating.\n",
    "- Shell thickness: 10 mm.\n",
    "SEAT\n",
    "- HD36 foam\n",
    "\n",
    "COUNTRY OF ORIGIN\n",
    "- Italy\n",
    "\"\"\"\n",
    "\n",
    "prompt = f\"\"\"\n",
    "Your task is to help a marketing team create a \n",
    "description for a retail website of a product based \n",
    "on a technical fact sheet.\n",
    "\n",
    "Write a product description based on the information \n",
    "provided in the technical specifications delimited by \n",
    "triple backticks.\n",
    "\n",
    "Use well structured paragraphs.\n",
    "\n",
    "Technical specifications: ```{fact_sheet_chair}```\n",
    "\n",
    "Also add a translation in Nepali labelled as \"नेपाली अनुवाद:\" at the end of the description.\n",
    "Make sure to change the paragraph and use sentence structure that is appropriate for the Nepali language.\n",
    "\"\"\"\n",
    "response = get_completion(prompt)\n",
    "print(response)\n"
   ]
  },
  {
   "cell_type": "code",
   "execution_count": 4,
   "id": "7dae59ed",
   "metadata": {},
   "outputs": [
    {
     "name": "stdout",
     "output_type": "stream",
     "text": [
      "Elevate your workspace with our mid-century inspired chair, featuring customizable upholstery and base finishes. Designed for comfort and style, it offers pneumatic height adjustment and options for armrests. Perfect for home or office, this chair combines elegance with functionality. Experience Italian craftsmanship today!\n"
     ]
    }
   ],
   "source": [
    "prompt = f\"\"\"\n",
    "Your task is to help a marketing team create a \n",
    "description for a retail website of a product based \n",
    "on a technical fact sheet.\n",
    "\n",
    "Write a product description based on the information \n",
    "provided in the technical specifications delimited by \n",
    "triple backticks.\n",
    "\n",
    "Use at most 50 words.\n",
    "\n",
    "Technical specifications: ```{fact_sheet_chair}```\n",
    "\"\"\"\n",
    "response = get_completion(prompt)\n",
    "print(response)\n"
   ]
  },
  {
   "cell_type": "code",
   "execution_count": 5,
   "id": "4ee538ac",
   "metadata": {},
   "outputs": [
    {
     "data": {
      "text/plain": [
       "43"
      ]
     },
     "execution_count": 5,
     "metadata": {},
     "output_type": "execute_result"
    }
   ],
   "source": [
    "len(response.split())\n"
   ]
  },
  {
   "cell_type": "code",
   "execution_count": 6,
   "id": "cb282342",
   "metadata": {},
   "outputs": [
    {
     "name": "stdout",
     "output_type": "stream",
     "text": [
      "Elevate your workspace with our mid-century inspired chair, featuring a durable cast aluminum shell and a 5-wheel plastic coated aluminum base. Choose from various upholstery options, including high-density foam for comfort. Available in multiple finishes, this chair is perfect for both home and contract use.\n"
     ]
    }
   ],
   "source": [
    "prompt = f\"\"\"\n",
    "Your task is to help a marketing team create a \n",
    "description for a retail website of a product based \n",
    "on a technical fact sheet.\n",
    "\n",
    "Write a product description based on the information \n",
    "provided in the technical specifications delimited by \n",
    "triple backticks.\n",
    "\n",
    "The description is intended for furniture retailers, \n",
    "so should be technical in nature and focus on the \n",
    "materials the product is constructed from.\n",
    "\n",
    "Use at most 50 words.\n",
    "\n",
    "Technical specifications: ```{fact_sheet_chair}```\n",
    "\"\"\"\n",
    "response = get_completion(prompt)\n",
    "print(response)\n"
   ]
  },
  {
   "cell_type": "code",
   "execution_count": 7,
   "id": "cfbfa84e",
   "metadata": {},
   "outputs": [
    {
     "name": "stdout",
     "output_type": "stream",
     "text": [
      "Elevate your workspace with our mid-century inspired chair, featuring a robust cast aluminum shell and a durable 5-wheel plastic coated aluminum base. Choose from various upholstery options and finishes, ensuring a perfect fit for any environment. Ideal for both home and business use. Product ID: SWC-100, SWC-110.\n"
     ]
    }
   ],
   "source": [
    "prompt = f\"\"\"\n",
    "Your task is to help a marketing team create a \n",
    "description for a retail website of a product based \n",
    "on a technical fact sheet.\n",
    "\n",
    "Write a product description based on the information \n",
    "provided in the technical specifications delimited by \n",
    "triple backticks.\n",
    "\n",
    "The description is intended for furniture retailers, \n",
    "so should be technical in nature and focus on the \n",
    "materials the product is constructed from.\n",
    "\n",
    "At the end of the description, include every 7-character \n",
    "Product ID in the technical specification.\n",
    "\n",
    "Use at most 50 words.\n",
    "\n",
    "Technical specifications: ```{fact_sheet_chair}```\n",
    "\"\"\"\n",
    "response = get_completion(prompt)\n",
    "print(response)\n"
   ]
  },
  {
   "cell_type": "code",
   "execution_count": 8,
   "id": "88bf3e05",
   "metadata": {},
   "outputs": [
    {
     "name": "stdout",
     "output_type": "stream",
     "text": [
      "```html\n",
      "<div>\n",
      "    <h2>Mid-Century Inspired Office Chair</h2>\n",
      "    <p>Introducing our Mid-Century Inspired Office Chair, a perfect blend of style and functionality designed for both home and business environments. This chair is part of a stunning collection of office furniture that includes filing cabinets, desks, bookcases, and meeting tables, all reflecting the timeless elegance of mid-century design.</p>\n",
      "    \n",
      "    <p>Constructed with a robust 5-wheel plastic coated aluminum base, this chair ensures stability and ease of movement. The pneumatic height adjustment feature allows for effortless customization, making it suitable for various user preferences. The shell is crafted from cast aluminum with a modified nylon PA6/PA66 coating, providing durability and a sleek finish. With a shell thickness of 10 mm, it offers both strength and a refined aesthetic.</p>\n",
      "    \n",
      "    <p>The seat is designed for comfort, utilizing HD36 foam that is available in two densities: medium (1.8 lb/ft³) or high (2.8 lb/ft³), allowing you to choose the level of support that best suits your needs. Additionally, the chair can be upholstered in a variety of options, including plastic back and front upholstery (SWC-100) or full upholstery (SWC-110), with a selection of 10 fabric and 6 leather choices to match your decor.</p>\n",
      "    \n",
      "    <p>Choose from several base finishes, including stainless steel, matte black, gloss white, or chrome, to complement your office space. The chair is available with or without armrests, and you can select soft or hard-floor caster options to ensure optimal mobility on any surface. This chair is qualified for contract use, making it an excellent choice for commercial settings.</p>\n",
      "    \n",
      "    <p>Product ID: SWC-100, SWC-110</p>\n",
      "</div>\n",
      "\n",
      "<h3>Product Dimensions</h3>\n",
      "<table>\n",
      "    <tr>\n",
      "        <th>Dimension</th>\n",
      "        <th>Measurement (inches)</th>\n",
      "    </tr>\n",
      "    <tr>\n",
      "        <td>Width</td>\n",
      "        <td>20.87”</td>\n",
      "    </tr>\n",
      "    <tr>\n",
      "        <td>Depth</td>\n",
      "        <td>20.08”</td>\n",
      "    </tr>\n",
      "    <tr>\n",
      "        <td>Height</td>\n",
      "        <td>31.50”</td>\n",
      "    </tr>\n",
      "    <tr>\n",
      "        <td>Seat Height</td>\n",
      "        <td>17.32”</td>\n",
      "    </tr>\n",
      "    <tr>\n",
      "        <td>Seat Depth</td>\n",
      "        <td>16.14”</td>\n",
      "    </tr>\n",
      "</table>\n",
      "```\n"
     ]
    }
   ],
   "source": [
    "prompt = f\"\"\"\n",
    "Your task is to help a marketing team create a \n",
    "description for a retail website of a product based \n",
    "on a technical fact sheet.\n",
    "\n",
    "Write a product description based on the information \n",
    "provided in the technical specifications delimited by \n",
    "triple backticks.\n",
    "\n",
    "The description is intended for furniture retailers, \n",
    "so should be technical in nature and focus on the \n",
    "materials the product is constructed from.\n",
    "\n",
    "At the end of the description, include every 7-character \n",
    "Product ID in the technical specification.\n",
    "\n",
    "After the description, include a table that gives the \n",
    "product's dimensions. The table should have two columns.\n",
    "In the first column include the name of the dimension. \n",
    "In the second column include the measurements in inches only.\n",
    "\n",
    "Give the table the title 'Product Dimensions'.\n",
    "\n",
    "Format everything as HTML that can be used in a website. \n",
    "Place the description in a <div> element.\n",
    "\n",
    "Technical specifications: ```{fact_sheet_chair}```\n",
    "\"\"\"\n",
    "\n",
    "response = get_completion(prompt)\n",
    "print(response)"
   ]
  },
  {
   "cell_type": "markdown",
   "id": "ffc9b9fe",
   "metadata": {},
   "source": [
    "HTML OUTPUT"
   ]
  },
  {
   "cell_type": "code",
   "execution_count": 9,
   "id": "fe569b4f",
   "metadata": {},
   "outputs": [],
   "source": [
    "from IPython.display import display, HTML\n"
   ]
  },
  {
   "cell_type": "code",
   "execution_count": 10,
   "id": "0faf4483",
   "metadata": {},
   "outputs": [
    {
     "data": {
      "text/html": [
       "```html\n",
       "<div>\n",
       "    <h2>Mid-Century Inspired Office Chair</h2>\n",
       "    <p>Introducing our Mid-Century Inspired Office Chair, a perfect blend of style and functionality designed for both home and business environments. This chair is part of a stunning collection of office furniture that includes filing cabinets, desks, bookcases, and meeting tables, all reflecting the timeless elegance of mid-century design.</p>\n",
       "    \n",
       "    <p>Constructed with a robust 5-wheel plastic coated aluminum base, this chair ensures stability and ease of movement. The pneumatic height adjustment feature allows for effortless customization, making it suitable for various user preferences. The shell is crafted from cast aluminum with a modified nylon PA6/PA66 coating, providing durability and a sleek finish. With a shell thickness of 10 mm, it offers both strength and a refined aesthetic.</p>\n",
       "    \n",
       "    <p>The seat is designed for comfort, utilizing HD36 foam that is available in two densities: medium (1.8 lb/ft³) or high (2.8 lb/ft³), allowing you to choose the level of support that best suits your needs. Additionally, the chair can be upholstered in a variety of options, including plastic back and front upholstery (SWC-100) or full upholstery (SWC-110), with a selection of 10 fabric and 6 leather choices to match your decor.</p>\n",
       "    \n",
       "    <p>Choose from several base finishes, including stainless steel, matte black, gloss white, or chrome, to complement your office space. The chair is available with or without armrests, and you can select soft or hard-floor caster options to ensure optimal mobility on any surface. This chair is qualified for contract use, making it an excellent choice for commercial settings.</p>\n",
       "    \n",
       "    <p>Product ID: SWC-100, SWC-110</p>\n",
       "</div>\n",
       "\n",
       "<h3>Product Dimensions</h3>\n",
       "<table>\n",
       "    <tr>\n",
       "        <th>Dimension</th>\n",
       "        <th>Measurement (inches)</th>\n",
       "    </tr>\n",
       "    <tr>\n",
       "        <td>Width</td>\n",
       "        <td>20.87”</td>\n",
       "    </tr>\n",
       "    <tr>\n",
       "        <td>Depth</td>\n",
       "        <td>20.08”</td>\n",
       "    </tr>\n",
       "    <tr>\n",
       "        <td>Height</td>\n",
       "        <td>31.50”</td>\n",
       "    </tr>\n",
       "    <tr>\n",
       "        <td>Seat Height</td>\n",
       "        <td>17.32”</td>\n",
       "    </tr>\n",
       "    <tr>\n",
       "        <td>Seat Depth</td>\n",
       "        <td>16.14”</td>\n",
       "    </tr>\n",
       "</table>\n",
       "```"
      ],
      "text/plain": [
       "<IPython.core.display.HTML object>"
      ]
     },
     "metadata": {},
     "output_type": "display_data"
    }
   ],
   "source": [
    "display(HTML(response))"
   ]
  },
  {
   "cell_type": "code",
   "execution_count": null,
   "id": "4ec996d5",
   "metadata": {},
   "outputs": [],
   "source": []
  }
 ],
 "metadata": {
  "kernelspec": {
   "display_name": "Python 3",
   "language": "python",
   "name": "python3"
  },
  "language_info": {
   "codemirror_mode": {
    "name": "ipython",
    "version": 3
   },
   "file_extension": ".py",
   "mimetype": "text/x-python",
   "name": "python",
   "nbconvert_exporter": "python",
   "pygments_lexer": "ipython3",
   "version": "3.13.3"
  }
 },
 "nbformat": 4,
 "nbformat_minor": 5
}
