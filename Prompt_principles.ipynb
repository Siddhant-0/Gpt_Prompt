{
 "cells": [
  {
   "cell_type": "code",
   "execution_count": 16,
   "id": "1edc6404",
   "metadata": {},
   "outputs": [],
   "source": [
    "import openai\n",
    "import os\n",
    "\n",
    "from dotenv import load_dotenv, find_dotenv\n",
    "_ = load_dotenv(find_dotenv())\n",
    "\n",
    "openai.api_key  = os.getenv('OPENAI_API_KEY')"
   ]
  },
  {
   "cell_type": "code",
   "execution_count": 17,
   "id": "b6ab7387",
   "metadata": {},
   "outputs": [],
   "source": [
    "client = openai.OpenAI()\n",
    "\n",
    "def get_completion(prompt, model=\"gpt-4o-mini\"):\n",
    "    messages = [{\"role\": \"user\", \"content\": prompt}]\n",
    "    response = client.chat.completions.create(\n",
    "        model=model,\n",
    "        messages=messages,\n",
    "        temperature=0\n",
    "    )\n",
    "    return response.choices[0].message.content"
   ]
  },
  {
   "cell_type": "code",
   "execution_count": null,
   "id": "6ca34d6e",
   "metadata": {},
   "outputs": [],
   "source": [
    "#########FOR newer version of OpenAI API, you can use the following code:\n",
    "\n",
    "# from openai import OpenAI\n",
    "\n",
    "# client = OpenAI()\n",
    "\n",
    "# def get_completion(prompt, model=\"gpt-3.5-turbo\"):\n",
    "#     messages = [{\"role\": \"user\", \"content\": prompt}]\n",
    "#     response = client.chat.completions.create(\n",
    "#         model=model,\n",
    "#         messages=messages,\n",
    "#         temperature=0,\n",
    "#     )\n",
    "#     return response.choices[0].message.content\n"
   ]
  },
  {
   "cell_type": "markdown",
   "id": "541a8601",
   "metadata": {},
   "source": [
    "Prompting Principles\n",
    "Principle 1: Write clear and specific instructions\n",
    "Principle 2: Give the model time to “think”\n",
    "Tactics\n",
    "Tactic 1: Use delimiters to clearly indicate distinct parts of the input\n",
    "Delimiters can be anything like: ```, \"\"\", < >, <tag> </tag>, :"
   ]
  },
  {
   "cell_type": "markdown",
   "id": "809db104",
   "metadata": {},
   "source": [
    "Tactic 1: Use delimiters to clearly indicate distinct parts of the input\n"
   ]
  },
  {
   "cell_type": "code",
   "execution_count": 33,
   "id": "d1be9f29",
   "metadata": {},
   "outputs": [
    {
     "name": "stdout",
     "output_type": "stream",
     "text": [
      "To achieve the desired output from a model, provide clear and specific instructions, as longer prompts often enhance clarity and context, leading to more relevant responses.\n"
     ]
    }
   ],
   "source": [
    "#Tactic 1: Use delimiters to clearly indicate distinct parts of the input\n",
    "\n",
    "\n",
    "text = f\"\"\"\n",
    "You should express what you want a model to do by \\\n",
    "providing instructions that are as clear and \\\n",
    "specific as you can possibly make them. \\\n",
    "This will guide the model towards the desired output, \\\n",
    "and reduce the chances of receiving irrelevant \\\n",
    "or incorrect responses. Don't confuse writing a \\\n",
    "clear prompt with writing a short prompt. \\\n",
    "In many cases, longer prompts provide more clarity \\\n",
    "and context for the model, which can lead to \\\n",
    "more detailed and relevant outputs.\n",
    "\"\"\"\n",
    "prompt = f\"\"\"\n",
    "Summarize the text delimited by triple backticks \\\n",
    "into a single sentence.\n",
    "```{text}```\n",
    "\"\"\"\n",
    "response = get_completion(prompt)\n",
    "print(response)"
   ]
  },
  {
   "cell_type": "markdown",
   "id": "cb21d4ec",
   "metadata": {},
   "source": [
    "Tactic 2: Ask for a structured output"
   ]
  },
  {
   "cell_type": "code",
   "execution_count": 19,
   "id": "da05a168",
   "metadata": {},
   "outputs": [
    {
     "name": "stdout",
     "output_type": "stream",
     "text": [
      "```json\n",
      "[\n",
      "    {\n",
      "        \"book_id\": 1,\n",
      "        \"title\": \"Whispers of the Forgotten Forest\",\n",
      "        \"author\": \"Elena Moonshadow\",\n",
      "        \"genre\": \"Fantasy\"\n",
      "    },\n",
      "    {\n",
      "        \"book_id\": 2,\n",
      "        \"title\": \"The Clockmaker's Secret\",\n",
      "        \"author\": \"Jasper Thorne\",\n",
      "        \"genre\": \"Mystery\"\n",
      "    },\n",
      "    {\n",
      "        \"book_id\": 3,\n",
      "        \"title\": \"Echoes of Tomorrow\",\n",
      "        \"author\": \"Sophie Lark\",\n",
      "        \"genre\": \"Science Fiction\"\n",
      "    }\n",
      "]\n",
      "```\n"
     ]
    }
   ],
   "source": [
    "#Tactic 2: Ask for a structured output\n",
    "\n",
    "prompt = f\"\"\"\n",
    "Generate a list of three made-up book titles along \\\n",
    "with their authors and genres. \n",
    "Provide them in JSON format with the following keys: \n",
    "book_id, title, author, genre.\n",
    "\"\"\"\n",
    "response = get_completion(prompt)\n",
    "print(response)\n"
   ]
  },
  {
   "cell_type": "code",
   "execution_count": null,
   "id": "25bc1f22",
   "metadata": {},
   "outputs": [
    {
     "name": "stdout",
     "output_type": "stream",
     "text": [
      "```json\n",
      "[\n",
      "    {\n",
      "        \"character_name\": \"Lelouch Lamperouge\",\n",
      "        \"anime_name\": \"Code Geass\",\n",
      "        \"sacrifice_reason\": \"To create a world where his sister and others can live in peace, Lelouch sacrifices himself to end the cycle of hatred.\"\n",
      "    },\n",
      "    {\n",
      "        \"character_name\": \"Itachi Uchiha\",\n",
      "        \"anime_name\": \"Naruto\",\n",
      "        \"sacrifice_reason\": \"Itachi sacrifices his own life and reputation to protect his village and his brother, Sasuke, from the truth of his actions.\"\n",
      "    },\n",
      "    {\n",
      "        \"character_name\": \"Maes Hughes\",\n",
      "        \"anime_name\": \"Fullmetal Alchemist\",\n",
      "        \"sacrifice_reason\": \"Hughes sacrifices himself to uncover the truth behind the military and protect his friends and family from the dangers of the homunculi.\"\n",
      "    }\n",
      "]\n",
      "```\n"
     ]
    }
   ],
   "source": [
    "#Tactic 2: Ask for a structured output\n",
    "\n",
    "prompt = f\"\"\"Generate a list of three characters that exist in anime world that \\\n",
    "    sacrifice themselves for the greater good. \\\n",
    "        Provide them in JSON format with the following keys: \n",
    "        character_name,anime_name, sacrifice_reason.\"\"\"\n",
    "        \n",
    "response =get_completion(prompt)\n",
    "\n",
    "print(response)"
   ]
  },
  {
   "cell_type": "markdown",
   "id": "17846dd1",
   "metadata": {},
   "source": [
    "Tactic 3: Ask the model to check whether conditions are satisfied"
   ]
  },
  {
   "cell_type": "code",
   "execution_count": 28,
   "id": "369a92d8",
   "metadata": {},
   "outputs": [
    {
     "name": "stdout",
     "output_type": "stream",
     "text": [
      "Completion for Text 1:\n",
      "Step 1 - Get some water boiling.  \n",
      "Step 2 - Grab a cup and put a tea bag in it.  \n",
      "Step 3 - Once the water is hot enough, pour it over the tea bag.  \n",
      "Step 4 - Let it sit for a bit so the tea can steep.  \n",
      "Step 5 - After a few minutes, take out the tea bag.  \n",
      "Step 6 - If you like, add some sugar or milk to taste.  \n",
      "Step 7 - Enjoy your delicious cup of tea!  \n"
     ]
    }
   ],
   "source": [
    "#Tactic 3: Ask the model to check whether conditions are satisfied\n",
    "#Conditional output as required\n",
    "\n",
    "text_1 = f\"\"\"\n",
    "Making a cup of tea is easy! First, you need to get some \\\n",
    "water boiling. While that's happening, \\\n",
    "grab a cup and put a tea bag in it. Once the water is \\\n",
    "hot enough, just pour it over the tea bag. \\\n",
    "Let it sit for a bit so the tea can steep. After a \\\n",
    "few minutes, take out the tea bag. If you \\\n",
    "like, you can add some sugar or milk to taste. \\\n",
    "And that's it! You've got yourself a delicious \\\n",
    "cup of tea to enjoy.\n",
    "\"\"\"\n",
    "prompt = f\"\"\"\n",
    "You will be provided with text delimited by triple quotes. \n",
    "If it contains a sequence of instructions, \\\n",
    "re-write those instructions in the following format:\n",
    "\n",
    "Step 1 - ...\n",
    "Step 2 - …\n",
    "…\n",
    "Step N - …\n",
    "\n",
    "If the text does not contain a sequence of instructions, \\\n",
    "then simply write \\\"No steps provided.\\\"\n",
    "\n",
    "\\\"\\\"\\\"{text_1}\\\"\\\"\\\"\n",
    "\"\"\"\n",
    "response = get_completion(prompt)\n",
    "print(\"Completion for Text 1:\")\n",
    "print(response)\n"
   ]
  },
  {
   "cell_type": "code",
   "execution_count": 32,
   "id": "345f3f87",
   "metadata": {},
   "outputs": [
    {
     "name": "stdout",
     "output_type": "stream",
     "text": [
      "Completion for Text 2:\n",
      "No steps provided.\n"
     ]
    }
   ],
   "source": [
    "#Tactic 3: Ask the model to check whether conditions are satisfied\n",
    "\n",
    "text_2 = f\"\"\"\n",
    "The sun is shining brightly today, and the birds are \\\n",
    "singing. It's a beautiful day to go for a \\\n",
    "walk in the park. The flowers are blooming, and the \\\n",
    "trees are swaying gently in the breeze. People \\\n",
    "are out and about, enjoying the lovely weather. \\\n",
    "Some are having picnics, while others are playing \\\n",
    "games or simply relaxing on the grass. It's a \\\n",
    "perfect day to spend time outdoors and appreciate the \\\n",
    "beauty of nature.\n",
    "\"\"\"\n",
    "prompt = f\"\"\"\n",
    "You will be provided with text delimited by triple quotes. \n",
    "If it contains a sequence of instructions, \\\n",
    "re-write those instructions in the following format:\n",
    "\n",
    "Step 1 - ...\n",
    "Step 2 - …\n",
    "…\n",
    "Step N - …\n",
    "\n",
    "If the text does not contain a sequence of instructions, \\\n",
    "then simply write \\\"No steps provided.\\\"\n",
    "\n",
    "\\\"\\\"\\\"{text_2}\\\"\\\"\\\"\n",
    "\"\"\"\n",
    "response = get_completion(prompt)\n",
    "print(\"Completion for Text 2:\")\n",
    "print(response)"
   ]
  },
  {
   "cell_type": "markdown",
   "id": "457cfccc",
   "metadata": {},
   "source": [
    "Tactic 4: \"Few-shot\" prompting"
   ]
  },
  {
   "cell_type": "code",
   "execution_count": 41,
   "id": "acc18c6b",
   "metadata": {},
   "outputs": [
    {
     "name": "stdout",
     "output_type": "stream",
     "text": [
      "<grandparent>: The mightiest oak stands tall because it weathered the fiercest storms; the strongest mountain is shaped by the relentless winds; the brightest star shines through the darkest night.\n"
     ]
    }
   ],
   "source": [
    "#Tactic 4: \"Few-shot\" prompting\n",
    "#Few shot prompting is a prompt engineering technique where you insert examples in your prompt, training the model on what you want the output to look and sound like\n",
    "\n",
    "prompt = f\"\"\"\n",
    "Your task is to answer in a consistent style.\n",
    "\n",
    "<child>: Teach me about patience.\n",
    "\n",
    "<grandparent>: The river that carves the deepest \\\n",
    "valley flows from a modest spring; the \\\n",
    "grandest symphony originates from a single note; \\\n",
    "the most intricate tapestry begins with a solitary thread.\n",
    "\n",
    "<child>: Teach me about Willpower.\n",
    "\"\"\"\n",
    "\n",
    "##The result showed constat refrence to tree even thouugh i changed the topic. \n",
    "\n",
    "response = get_completion(prompt)\n",
    "print(response)"
   ]
  },
  {
   "cell_type": "markdown",
   "id": "2dec5e1a",
   "metadata": {},
   "source": [
    "Principle 2: Give model time to think\n",
    "Tactic 1:  Specify the steps required to complete a task"
   ]
  },
  {
   "cell_type": "code",
   "execution_count": null,
   "id": "f151b9ca",
   "metadata": {},
   "outputs": [
    {
     "name": "stdout",
     "output_type": "stream",
     "text": [
      "Completion for prompt 1:\n",
      "Jack and Jill, siblings from a charming village, embarked on a quest for water but faced misfortune when Jack fell down a hill, yet they returned home unscathed and continued their adventures joyfully. \n",
      "\n",
      "Jack et Jill, des frères et sœurs d'un charmant village, se sont lancés dans une quête d'eau mais ont rencontré un malheur lorsque Jack est tombé d'une colline, mais ils sont rentrés chez eux indemnes et ont continué leurs aventures avec joie.\n",
      "\n",
      "Jack, Jill\n",
      "\n",
      "{\n",
      "  \"french_summary\": \"Jack et Jill, des frères et sœurs d'un charmant village, se sont lancés dans une quête d'eau mais ont rencontré un malheur lorsque Jack est tombé d'une colline, mais ils sont rentrés chez eux indemnes et ont continué leurs aventures avec joie.\",\n",
      "  \"num_names\": 2\n",
      "}\n"
     ]
    }
   ],
   "source": [
    "#Tactic 1: Specify the steps required to complete a task\n",
    "\n",
    "text = f\"\"\"\n",
    "In a charming village, siblings Jack and Jill set out on \\\n",
    "a quest to fetch water from a hilltop \\\n",
    "well. As they climbed, singing joyfully, misfortune \\\n",
    "struck—Jack tripped on a stone and tumbled \\\n",
    "down the hill, with Jill following suit. \\\n",
    "Though slightly battered, the pair returned home to \\\n",
    "comforting embraces. Despite the mishap, \\\n",
    "their adventurous spirits remained undimmed, and they \\\n",
    "continued exploring with delight.\n",
    "\"\"\"\n",
    "# example 1\n",
    "prompt_1 = f\"\"\"\n",
    "Perform the following actions: \n",
    "1 - Summarize the following text delimited by triple \\\n",
    "backticks with 1 sentence.\n",
    "2 - Translate the summary into French.\n",
    "3 - List each name in the French summary.\n",
    "4 - Output a json object that contains the following \\\n",
    "keys: french_summary, num_names.\n",
    "\n",
    "Separate your answers with line breaks.\n",
    "\n",
    "Text:\n",
    "```{text}```\n",
    "\"\"\"\n",
    "response = get_completion(prompt_1)\n",
    "print(\"Completion for prompt 1:\")\n",
    "print(response)"
   ]
  },
  {
   "cell_type": "code",
   "execution_count": null,
   "id": "b590e380",
   "metadata": {},
   "outputs": [
    {
     "name": "stdout",
     "output_type": "stream",
     "text": [
      "\n",
      "Completion for prompt 2:\n",
      "Summary: Siblings Jack and Jill embark on a quest to fetch water but face misfortune when Jack falls, yet they return home undeterred and continue their adventures.  \n",
      "Nepali Translation: भाइबहिनी ज्याक र जिलले पानी ल्याउनको लागि यात्रा सुरु गर्छन् तर ज्याकले खसेपछि उनीहरू घर फर्कन्छन् र आफ्नो साहसिकता जारी राख्छन्।  \n",
      "Names: Jack, Jill  \n",
      "Nepali Names: ज्याक, जिल  \n",
      "Output JSON: {\"french_summary\":\"Siblings Jack and Jill embark on a quest to fetch water but face misfortune when Jack falls, yet they return home undeterred and continue their adventures.\",\"num_names\":2}\n"
     ]
    }
   ],
   "source": [
    "#Tactic 1: Specify the steps required to complete a task\n",
    "\n",
    "text = f\"\"\"\n",
    "In a charming village, siblings Jack and Jill set out on \\\n",
    "a quest to fetch water from a hilltop \\\n",
    "well. As they climbed, singing joyfully, misfortune \\\n",
    "struck—Jack tripped on a stone and tumbled \\\n",
    "down the hill, with Jill following suit. \\\n",
    "Though slightly battered, the pair returned home to \\\n",
    "comforting embraces. Despite the mishap, \\\n",
    "their adventurous spirits remained undimmed, and they \\\n",
    "continued exploring with delight.\n",
    "\"\"\"\n",
    "\n",
    "prompt_2 = f\"\"\"\n",
    "Your task is to perform the following actions: \n",
    "1 - Summarize the following text delimited by \n",
    "  <> with 1 sentence.\n",
    "2 - Translate the summary into Nepali.\n",
    "3 - List each name in the summary.\n",
    "4 - List each name in the Nepali summary.\n",
    "5 - Output a json object that contains the \n",
    "  following keys: french_summary, num_names.\n",
    "\n",
    "Use the following format:\n",
    "Text: <text to summarize>\n",
    "Summary: <summary>\n",
    "Nepali Translation: <summary translation>\n",
    "Names: <list of names in summary>\n",
    "Nepali Names: <list of names in summary>\n",
    "Output JSON: <json with summary and num_names>\n",
    "\n",
    "Text: <{text}>\n",
    "\"\"\"\n",
    "response = get_completion(prompt_2)\n",
    "print(\"\\nCompletion for prompt 2:\")\n",
    "print(response)"
   ]
  },
  {
   "cell_type": "markdown",
   "id": "a9fdb628",
   "metadata": {},
   "source": [
    "Tactic 2: Instruct the model to work out its own solution before rushing to a conclusion"
   ]
  },
  {
   "cell_type": "code",
   "execution_count": 47,
   "id": "f7559344",
   "metadata": {},
   "outputs": [
    {
     "name": "stdout",
     "output_type": "stream",
     "text": [
      "The student's solution is mostly correct, but there is a small error in the calculation of the maintenance cost. Let's break it down step by step:\n",
      "\n",
      "1. **Land cost**: The cost of land is $100 per square foot, so for \\( x \\) square feet, the cost is:\n",
      "   \\[\n",
      "   100x\n",
      "   \\]\n",
      "\n",
      "2. **Solar panel cost**: The cost of solar panels is $250 per square foot, so for \\( x \\) square feet, the cost is:\n",
      "   \\[\n",
      "   250x\n",
      "   \\]\n",
      "\n",
      "3. **Maintenance cost**: The maintenance cost consists of a flat fee of $100,000 plus an additional $10 per square foot. Therefore, the maintenance cost for \\( x \\) square feet is:\n",
      "   \\[\n",
      "   100,000 + 10x\n",
      "   \\]\n",
      "\n",
      "Now, let's combine all these costs to find the total cost for the first year of operations:\n",
      "\n",
      "\\[\n",
      "\\text{Total cost} = \\text{Land cost} + \\text{Solar panel cost} + \\text{Maintenance cost}\n",
      "\\]\n",
      "\\[\n",
      "\\text{Total cost} = 100x + 250x + (100,000 + 10x)\n",
      "\\]\n",
      "\\[\n",
      "\\text{Total cost} = 100x + 250x + 100,000 + 10x\n",
      "\\]\n",
      "\\[\n",
      "\\text{Total cost} = (100x + 250x + 10x) + 100,000\n",
      "\\]\n",
      "\\[\n",
      "\\text{Total cost} = 360x + 100,000\n",
      "\\]\n",
      "\n",
      "The student's final expression was \\( 450x + 100,000 \\), which is incorrect. The correct total cost for the first year of operations as a function of the number of square feet \\( x \\) is:\n",
      "\n",
      "\\[\n",
      "\\text{Total cost} = 360x + 100,000\n",
      "\\]\n",
      "\n",
      "So, the student's solution is incorrect due to the miscalculation of the maintenance cost.\n"
     ]
    }
   ],
   "source": [
    "#Tactic 2: Instruct the model to work out its own solution before rushing to a conclusion\n",
    "\n",
    "prompt = f\"\"\"\n",
    "Determine if the student's solution is correct or not.\n",
    "\n",
    "Question:\n",
    "I'm building a solar power installation and I need \\\n",
    " help working out the financials. \n",
    "- Land costs $100 / square foot\n",
    "- I can buy solar panels for $250 / square foot\n",
    "- I negotiated a contract for maintenance that will cost \\\n",
    "me a flat $100k per year, and an additional $10 / square \\\n",
    "foot\n",
    "What is the total cost for the first year of operations \n",
    "as a function of the number of square feet.\n",
    "\n",
    "Student's Solution:\n",
    "Let x be the size of the installation in square feet.\n",
    "Costs:\n",
    "1. Land cost: 100x\n",
    "2. Solar panel cost: 250x\n",
    "3. Maintenance cost: 100,000 + 100x\n",
    "Total cost: 100x + 250x + 100,000 + 100x = 450x + 100,000\n",
    "\"\"\"\n",
    "response = get_completion(prompt)\n",
    "print(response)"
   ]
  },
  {
   "cell_type": "code",
   "execution_count": 49,
   "id": "dfc5d35f",
   "metadata": {},
   "outputs": [
    {
     "name": "stdout",
     "output_type": "stream",
     "text": [
      "To solve the problem, let's break down the costs step by step.\n",
      "\n",
      "1. **Land cost**: The cost of land is $100 per square foot. If we let \\( x \\) be the size of the installation in square feet, then the total land cost is:\n",
      "   \\[\n",
      "   \\text{Land cost} = 100x\n",
      "   \\]\n",
      "\n",
      "2. **Solar panel cost**: The cost of solar panels is $250 per square foot. Therefore, the total cost for solar panels is:\n",
      "   \\[\n",
      "   \\text{Solar panel cost} = 250x\n",
      "   \\]\n",
      "\n",
      "3. **Maintenance cost**: The maintenance cost consists of a flat fee of $100,000 plus an additional $10 per square foot. Thus, the total maintenance cost is:\n",
      "   \\[\n",
      "   \\text{Maintenance cost} = 100,000 + 10x\n",
      "   \\]\n",
      "\n",
      "Now, we can combine all these costs to find the total cost for the first year of operations:\n",
      "\\[\n",
      "\\text{Total cost} = \\text{Land cost} + \\text{Solar panel cost} + \\text{Maintenance cost}\n",
      "\\]\n",
      "Substituting the expressions we derived:\n",
      "\\[\n",
      "\\text{Total cost} = 100x + 250x + (100,000 + 10x)\n",
      "\\]\n",
      "Combining like terms:\n",
      "\\[\n",
      "\\text{Total cost} = (100x + 250x + 10x) + 100,000 = 360x + 100,000\n",
      "\\]\n",
      "\n",
      "So, the total cost for the first year of operations as a function of the number of square feet \\( x \\) is:\n",
      "\\[\n",
      "\\text{Total cost} = 360x + 100,000\n",
      "\\]\n",
      "\n",
      "Now, let's compare this with the student's solution.\n",
      "\n",
      "Student's solution:\n",
      "```\n",
      "Let x be the size of the installation in square feet.\n",
      "Costs:\n",
      "1. Land cost: 100x\n",
      "2. Solar panel cost: 250x\n",
      "3. Maintenance cost: 100,000 + 100x\n",
      "Total cost: 100x + 250x + 100,000 + 100x = 450x + 100,000\n",
      "```\n",
      "\n",
      "The student calculated the maintenance cost incorrectly. They added $100 per square foot instead of the correct $10 per square foot. Therefore, the total cost they arrived at is incorrect.\n",
      "\n",
      "Is the student's solution the same as actual solution just calculated:\n",
      "```\n",
      "no\n",
      "```\n",
      "Student grade:\n",
      "```\n",
      "incorrect\n",
      "```\n"
     ]
    }
   ],
   "source": [
    "prompt = f\"\"\"\n",
    "Your task is to determine if the student's solution \\\n",
    "is correct or not.\n",
    "To solve the problem do the following:\n",
    "- First, work out your own solution to the problem including the final total. \n",
    "- Then compare your solution to the student's solution \\\n",
    "and evaluate if the student's solution is correct or not. \n",
    "Don't decide if the student's solution is correct until \n",
    "you have done the problem yourself.\n",
    "\n",
    "Use the following format:\n",
    "Question:\n",
    "```\n",
    "question here\n",
    "```\n",
    "Student's solution:\n",
    "```\n",
    "student's solution here\n",
    "```\n",
    "Actual solution:\n",
    "```\n",
    "steps to work out the solution and your solution here\n",
    "```\n",
    "Is the student's solution the same as actual solution \\\n",
    "just calculated:\n",
    "```\n",
    "yes or no\n",
    "```\n",
    "Student grade:\n",
    "```\n",
    "correct or incorrect\n",
    "```\n",
    "\n",
    "Question:\n",
    "```\n",
    "I'm building a solar power installation and I need help \\\n",
    "working out the financials. \n",
    "- Land costs $100 / square foot\n",
    "- I can buy solar panels for $250 / square foot\n",
    "- I negotiated a contract for maintenance that will cost \\\n",
    "me a flat $100k per year, and an additional $10 / square \\\n",
    "foot\n",
    "What is the total cost for the first year of operations \\\n",
    "as a function of the number of square feet.\n",
    "``` \n",
    "Student's solution:\n",
    "```\n",
    "Let x be the size of the installation in square feet.\n",
    "Costs:\n",
    "1. Land cost: 100x\n",
    "2. Solar panel cost: 250x\n",
    "3. Maintenance cost: 100,000 + 100x\n",
    "Total cost: 100x + 250x + 100,000 + 100x = 450x + 100,000\n",
    "```\n",
    "Actual solution:\n",
    "\"\"\"\n",
    "response = get_completion(prompt)\n",
    "print(response)"
   ]
  },
  {
   "cell_type": "code",
   "execution_count": 52,
   "id": "1b683947",
   "metadata": {},
   "outputs": [
    {
     "name": "stdout",
     "output_type": "stream",
     "text": [
      "The Rajesh Hamal UltraSlim Smart Toothbrush by Boie is a product that combines modern technology with dental hygiene. While specific details about this toothbrush may not be widely available, Boie is known for creating innovative personal care products, including toothbrushes that emphasize sustainability and effectiveness.\n",
      "\n",
      "Typically, smart toothbrushes like the one mentioned may feature:\n",
      "\n",
      "1. **Ultra-Slim Design**: A sleek and ergonomic design that makes it easy to handle and maneuver while brushing.\n",
      "\n",
      "2. **Smart Features**: Many smart toothbrushes come equipped with features such as Bluetooth connectivity, allowing users to track their brushing habits through a mobile app. This can help improve oral hygiene by providing feedback on brushing techniques and duration.\n",
      "\n",
      "3. **Sustainability**: Boie is known for its commitment to eco-friendly products, so the toothbrush may be designed with sustainable materials and a focus on reducing plastic waste.\n",
      "\n",
      "4. **Effective Cleaning**: The toothbrush likely features advanced bristle technology to ensure effective plaque removal and gum care.\n",
      "\n",
      "5. **User-Friendly**: It may include features like timers to ensure users brush for the recommended two minutes.\n",
      "\n",
      "For the most accurate and detailed information, including specifications and user reviews, it would be best to check the official Boie website or trusted retailers.\n"
     ]
    }
   ],
   "source": [
    "# Model Limitations: Hallucinations\n",
    "# Boie is a real company, the product name is not real.\n",
    "\n",
    "prompt = f\"\"\"\n",
    "Tell me about Rajesh Hamal UltraSlim Smart Toothbrush by Boie\n",
    "\"\"\"\n",
    "response = get_completion(prompt)\n",
    "print(response)"
   ]
  },
  {
   "cell_type": "code",
   "execution_count": null,
   "id": "00ad677a",
   "metadata": {},
   "outputs": [],
   "source": []
  }
 ],
 "metadata": {
  "kernelspec": {
   "display_name": "Python 3",
   "language": "python",
   "name": "python3"
  },
  "language_info": {
   "codemirror_mode": {
    "name": "ipython",
    "version": 3
   },
   "file_extension": ".py",
   "mimetype": "text/x-python",
   "name": "python",
   "nbconvert_exporter": "python",
   "pygments_lexer": "ipython3",
   "version": "3.13.3"
  }
 },
 "nbformat": 4,
 "nbformat_minor": 5
}
